{
 "cells": [
  {
   "cell_type": "code",
   "execution_count": 42,
   "metadata": {},
   "outputs": [],
   "source": [
    "import pandas as pd \n",
    "import numpy as np \n"
   ]
  },
  {
   "cell_type": "code",
   "execution_count": 43,
   "metadata": {},
   "outputs": [
    {
     "data": {
      "text/html": [
       "<div>\n",
       "<style scoped>\n",
       "    .dataframe tbody tr th:only-of-type {\n",
       "        vertical-align: middle;\n",
       "    }\n",
       "\n",
       "    .dataframe tbody tr th {\n",
       "        vertical-align: top;\n",
       "    }\n",
       "\n",
       "    .dataframe thead th {\n",
       "        text-align: right;\n",
       "    }\n",
       "</style>\n",
       "<table border=\"1\" class=\"dataframe\">\n",
       "  <thead>\n",
       "    <tr style=\"text-align: right;\">\n",
       "      <th></th>\n",
       "      <th>Symbol</th>\n",
       "      <th>Series</th>\n",
       "      <th>Prev Close</th>\n",
       "      <th>Open</th>\n",
       "      <th>High</th>\n",
       "      <th>Low</th>\n",
       "      <th>Last</th>\n",
       "      <th>Close</th>\n",
       "      <th>VWAP</th>\n",
       "      <th>Volume</th>\n",
       "      <th>Turnover</th>\n",
       "    </tr>\n",
       "  </thead>\n",
       "  <tbody>\n",
       "    <tr>\n",
       "      <th>0</th>\n",
       "      <td>HDFC</td>\n",
       "      <td>EQ</td>\n",
       "      <td>271.75</td>\n",
       "      <td>293.5</td>\n",
       "      <td>293.50</td>\n",
       "      <td>293.5</td>\n",
       "      <td>293.5</td>\n",
       "      <td>293.50</td>\n",
       "      <td>293.50</td>\n",
       "      <td>22744</td>\n",
       "      <td>6.680000e+11</td>\n",
       "    </tr>\n",
       "    <tr>\n",
       "      <th>1</th>\n",
       "      <td>HDFC</td>\n",
       "      <td>EQ</td>\n",
       "      <td>293.50</td>\n",
       "      <td>317.0</td>\n",
       "      <td>317.00</td>\n",
       "      <td>297.0</td>\n",
       "      <td>304.0</td>\n",
       "      <td>304.05</td>\n",
       "      <td>303.62</td>\n",
       "      <td>255251</td>\n",
       "      <td>7.750000e+12</td>\n",
       "    </tr>\n",
       "    <tr>\n",
       "      <th>2</th>\n",
       "      <td>HDFC</td>\n",
       "      <td>EQ</td>\n",
       "      <td>304.05</td>\n",
       "      <td>290.0</td>\n",
       "      <td>303.90</td>\n",
       "      <td>285.0</td>\n",
       "      <td>295.0</td>\n",
       "      <td>292.80</td>\n",
       "      <td>294.53</td>\n",
       "      <td>269087</td>\n",
       "      <td>7.930000e+12</td>\n",
       "    </tr>\n",
       "    <tr>\n",
       "      <th>3</th>\n",
       "      <td>HDFC</td>\n",
       "      <td>EQ</td>\n",
       "      <td>292.80</td>\n",
       "      <td>301.0</td>\n",
       "      <td>314.00</td>\n",
       "      <td>295.0</td>\n",
       "      <td>296.0</td>\n",
       "      <td>296.45</td>\n",
       "      <td>300.14</td>\n",
       "      <td>305916</td>\n",
       "      <td>9.180000e+12</td>\n",
       "    </tr>\n",
       "    <tr>\n",
       "      <th>4</th>\n",
       "      <td>HDFC</td>\n",
       "      <td>EQ</td>\n",
       "      <td>296.45</td>\n",
       "      <td>290.0</td>\n",
       "      <td>296.35</td>\n",
       "      <td>281.0</td>\n",
       "      <td>287.1</td>\n",
       "      <td>286.55</td>\n",
       "      <td>288.80</td>\n",
       "      <td>197039</td>\n",
       "      <td>5.690000e+12</td>\n",
       "    </tr>\n",
       "  </tbody>\n",
       "</table>\n",
       "</div>"
      ],
      "text/plain": [
       "  Symbol Series  Prev Close   Open    High    Low   Last   Close    VWAP  \\\n",
       "0   HDFC     EQ      271.75  293.5  293.50  293.5  293.5  293.50  293.50   \n",
       "1   HDFC     EQ      293.50  317.0  317.00  297.0  304.0  304.05  303.62   \n",
       "2   HDFC     EQ      304.05  290.0  303.90  285.0  295.0  292.80  294.53   \n",
       "3   HDFC     EQ      292.80  301.0  314.00  295.0  296.0  296.45  300.14   \n",
       "4   HDFC     EQ      296.45  290.0  296.35  281.0  287.1  286.55  288.80   \n",
       "\n",
       "   Volume      Turnover  \n",
       "0   22744  6.680000e+11  \n",
       "1  255251  7.750000e+12  \n",
       "2  269087  7.930000e+12  \n",
       "3  305916  9.180000e+12  \n",
       "4  197039  5.690000e+12  "
      ]
     },
     "execution_count": 43,
     "metadata": {},
     "output_type": "execute_result"
    }
   ],
   "source": [
    "HDFC=pd.read_csv(\"HDFC.CSV\")\n",
    "HDFC.head()"
   ]
  },
  {
   "cell_type": "code",
   "execution_count": 44,
   "metadata": {},
   "outputs": [
    {
     "data": {
      "text/plain": [
       "Symbol         object\n",
       "Series         object\n",
       "Prev Close    float64\n",
       "Open          float64\n",
       "High          float64\n",
       "Low           float64\n",
       "Last          float64\n",
       "Close         float64\n",
       "VWAP          float64\n",
       "Volume          int64\n",
       "Turnover      float64\n",
       "dtype: object"
      ]
     },
     "execution_count": 44,
     "metadata": {},
     "output_type": "execute_result"
    }
   ],
   "source": [
    "HDFC.dtypes"
   ]
  },
  {
   "cell_type": "code",
   "execution_count": 45,
   "metadata": {},
   "outputs": [
    {
     "data": {
      "text/html": [
       "<div>\n",
       "<style scoped>\n",
       "    .dataframe tbody tr th:only-of-type {\n",
       "        vertical-align: middle;\n",
       "    }\n",
       "\n",
       "    .dataframe tbody tr th {\n",
       "        vertical-align: top;\n",
       "    }\n",
       "\n",
       "    .dataframe thead th {\n",
       "        text-align: right;\n",
       "    }\n",
       "</style>\n",
       "<table border=\"1\" class=\"dataframe\">\n",
       "  <thead>\n",
       "    <tr style=\"text-align: right;\">\n",
       "      <th></th>\n",
       "      <th>Prev Close</th>\n",
       "      <th>Open</th>\n",
       "      <th>High</th>\n",
       "      <th>Low</th>\n",
       "      <th>Last</th>\n",
       "      <th>Close</th>\n",
       "      <th>VWAP</th>\n",
       "      <th>Volume</th>\n",
       "      <th>Turnover</th>\n",
       "    </tr>\n",
       "  </thead>\n",
       "  <tbody>\n",
       "    <tr>\n",
       "      <th>count</th>\n",
       "      <td>5204.000000</td>\n",
       "      <td>5204.000000</td>\n",
       "      <td>5204.000000</td>\n",
       "      <td>5204.000000</td>\n",
       "      <td>5204.000000</td>\n",
       "      <td>5204.000000</td>\n",
       "      <td>5204.000000</td>\n",
       "      <td>5.204000e+03</td>\n",
       "      <td>5.204000e+03</td>\n",
       "    </tr>\n",
       "    <tr>\n",
       "      <th>mean</th>\n",
       "      <td>1258.916699</td>\n",
       "      <td>1259.570830</td>\n",
       "      <td>1279.203689</td>\n",
       "      <td>1238.845350</td>\n",
       "      <td>1259.115027</td>\n",
       "      <td>1259.298040</td>\n",
       "      <td>1258.914489</td>\n",
       "      <td>1.803337e+06</td>\n",
       "      <td>2.465803e+14</td>\n",
       "    </tr>\n",
       "    <tr>\n",
       "      <th>std</th>\n",
       "      <td>693.435637</td>\n",
       "      <td>693.614024</td>\n",
       "      <td>705.271220</td>\n",
       "      <td>681.532996</td>\n",
       "      <td>693.255776</td>\n",
       "      <td>693.438328</td>\n",
       "      <td>693.143593</td>\n",
       "      <td>2.995775e+06</td>\n",
       "      <td>3.423043e+14</td>\n",
       "    </tr>\n",
       "    <tr>\n",
       "      <th>min</th>\n",
       "      <td>271.750000</td>\n",
       "      <td>284.000000</td>\n",
       "      <td>290.500000</td>\n",
       "      <td>273.250000</td>\n",
       "      <td>282.850000</td>\n",
       "      <td>283.850000</td>\n",
       "      <td>283.600000</td>\n",
       "      <td>2.919000e+03</td>\n",
       "      <td>1.830000e+11</td>\n",
       "    </tr>\n",
       "    <tr>\n",
       "      <th>25%</th>\n",
       "      <td>666.950000</td>\n",
       "      <td>667.000000</td>\n",
       "      <td>675.000000</td>\n",
       "      <td>658.500000</td>\n",
       "      <td>667.000000</td>\n",
       "      <td>667.075000</td>\n",
       "      <td>666.395000</td>\n",
       "      <td>2.951870e+05</td>\n",
       "      <td>2.357500e+13</td>\n",
       "    </tr>\n",
       "    <tr>\n",
       "      <th>50%</th>\n",
       "      <td>1114.900000</td>\n",
       "      <td>1115.150000</td>\n",
       "      <td>1130.000000</td>\n",
       "      <td>1096.175000</td>\n",
       "      <td>1115.100000</td>\n",
       "      <td>1114.950000</td>\n",
       "      <td>1114.400000</td>\n",
       "      <td>1.277891e+06</td>\n",
       "      <td>1.640000e+14</td>\n",
       "    </tr>\n",
       "    <tr>\n",
       "      <th>75%</th>\n",
       "      <td>1776.750000</td>\n",
       "      <td>1778.100000</td>\n",
       "      <td>1807.100000</td>\n",
       "      <td>1751.000000</td>\n",
       "      <td>1776.075000</td>\n",
       "      <td>1777.000000</td>\n",
       "      <td>1776.372500</td>\n",
       "      <td>2.659661e+06</td>\n",
       "      <td>3.280000e+14</td>\n",
       "    </tr>\n",
       "    <tr>\n",
       "      <th>max</th>\n",
       "      <td>3180.150000</td>\n",
       "      <td>3148.000000</td>\n",
       "      <td>3262.000000</td>\n",
       "      <td>3100.550000</td>\n",
       "      <td>3178.000000</td>\n",
       "      <td>3180.150000</td>\n",
       "      <td>3166.580000</td>\n",
       "      <td>1.584141e+08</td>\n",
       "      <td>1.040000e+16</td>\n",
       "    </tr>\n",
       "  </tbody>\n",
       "</table>\n",
       "</div>"
      ],
      "text/plain": [
       "        Prev Close         Open         High          Low         Last  \\\n",
       "count  5204.000000  5204.000000  5204.000000  5204.000000  5204.000000   \n",
       "mean   1258.916699  1259.570830  1279.203689  1238.845350  1259.115027   \n",
       "std     693.435637   693.614024   705.271220   681.532996   693.255776   \n",
       "min     271.750000   284.000000   290.500000   273.250000   282.850000   \n",
       "25%     666.950000   667.000000   675.000000   658.500000   667.000000   \n",
       "50%    1114.900000  1115.150000  1130.000000  1096.175000  1115.100000   \n",
       "75%    1776.750000  1778.100000  1807.100000  1751.000000  1776.075000   \n",
       "max    3180.150000  3148.000000  3262.000000  3100.550000  3178.000000   \n",
       "\n",
       "             Close         VWAP        Volume      Turnover  \n",
       "count  5204.000000  5204.000000  5.204000e+03  5.204000e+03  \n",
       "mean   1259.298040  1258.914489  1.803337e+06  2.465803e+14  \n",
       "std     693.438328   693.143593  2.995775e+06  3.423043e+14  \n",
       "min     283.850000   283.600000  2.919000e+03  1.830000e+11  \n",
       "25%     667.075000   666.395000  2.951870e+05  2.357500e+13  \n",
       "50%    1114.950000  1114.400000  1.277891e+06  1.640000e+14  \n",
       "75%    1777.000000  1776.372500  2.659661e+06  3.280000e+14  \n",
       "max    3180.150000  3166.580000  1.584141e+08  1.040000e+16  "
      ]
     },
     "execution_count": 45,
     "metadata": {},
     "output_type": "execute_result"
    }
   ],
   "source": [
    "HDFC.describe()"
   ]
  },
  {
   "cell_type": "code",
   "execution_count": 46,
   "metadata": {},
   "outputs": [
    {
     "name": "stdout",
     "output_type": "stream",
     "text": [
      "<class 'pandas.core.frame.DataFrame'>\n",
      "RangeIndex: 5204 entries, 0 to 5203\n",
      "Data columns (total 11 columns):\n",
      " #   Column      Non-Null Count  Dtype  \n",
      "---  ------      --------------  -----  \n",
      " 0   Symbol      5204 non-null   object \n",
      " 1   Series      5204 non-null   object \n",
      " 2   Prev Close  5204 non-null   float64\n",
      " 3   Open        5204 non-null   float64\n",
      " 4   High        5204 non-null   float64\n",
      " 5   Low         5204 non-null   float64\n",
      " 6   Last        5204 non-null   float64\n",
      " 7   Close       5204 non-null   float64\n",
      " 8   VWAP        5204 non-null   float64\n",
      " 9   Volume      5204 non-null   int64  \n",
      " 10  Turnover    5204 non-null   float64\n",
      "dtypes: float64(8), int64(1), object(2)\n",
      "memory usage: 447.3+ KB\n"
     ]
    }
   ],
   "source": [
    "HDFC.info()"
   ]
  },
  {
   "cell_type": "code",
   "execution_count": 47,
   "metadata": {},
   "outputs": [
    {
     "data": {
      "text/plain": [
       "Symbol        0\n",
       "Series        0\n",
       "Prev Close    0\n",
       "Open          0\n",
       "High          0\n",
       "Low           0\n",
       "Last          0\n",
       "Close         0\n",
       "VWAP          0\n",
       "Volume        0\n",
       "Turnover      0\n",
       "dtype: int64"
      ]
     },
     "execution_count": 47,
     "metadata": {},
     "output_type": "execute_result"
    }
   ],
   "source": [
    "HDFC.isnull().sum()\n"
   ]
  },
  {
   "cell_type": "code",
   "execution_count": 50,
   "metadata": {},
   "outputs": [],
   "source": [
    "from sklearn.preprocessing import LabelEncoder\n"
   ]
  },
  {
   "cell_type": "code",
   "execution_count": 51,
   "metadata": {},
   "outputs": [
    {
     "data": {
      "text/plain": [
       "{0: 0}"
      ]
     },
     "execution_count": 51,
     "metadata": {},
     "output_type": "execute_result"
    }
   ],
   "source": [
    "encoder = LabelEncoder()\n",
    "HDFC['Symbol'] = encoder.fit_transform(HDFC['Symbol'])\n",
    "Symbol = {index : label for index, label in enumerate(encoder.classes_)}\n",
    "Symbol"
   ]
  },
  {
   "cell_type": "code",
   "execution_count": 52,
   "metadata": {},
   "outputs": [
    {
     "data": {
      "text/plain": [
       "{0: 'EQ'}"
      ]
     },
     "execution_count": 52,
     "metadata": {},
     "output_type": "execute_result"
    }
   ],
   "source": [
    "HDFC['Series'] = encoder.fit_transform(HDFC['Series'])\n",
    "Series = {index : label for index, label in enumerate(encoder.classes_)}\n",
    "Series"
   ]
  },
  {
   "cell_type": "code",
   "execution_count": 53,
   "metadata": {},
   "outputs": [],
   "source": [
    "X=HDFC.drop(['Turnover'],axis=1)\n",
    "y=HDFC['Turnover']"
   ]
  },
  {
   "cell_type": "code",
   "execution_count": 55,
   "metadata": {},
   "outputs": [
    {
     "name": "stdout",
     "output_type": "stream",
     "text": [
      "x \n",
      " [[0.         0.         0.         0.00331704 0.00100959 0.00716231\n",
      "  0.00367857 0.00333184 0.00343395 0.00012515]\n",
      " [0.         0.         0.00747834 0.01152235 0.00891805 0.00840024\n",
      "  0.00730532 0.00697442 0.0069442  0.00159289]\n",
      " [0.         0.         0.01110576 0.00209497 0.00450951 0.00415591\n",
      "  0.00419667 0.00309015 0.00379122 0.00168023]\n",
      " [0.         0.         0.00723766 0.00593575 0.00790846 0.00769285\n",
      "  0.00454208 0.00435038 0.00573712 0.00191272]\n",
      " [0.         0.         0.00849264 0.00209497 0.0019687  0.00274113\n",
      "  0.00146797 0.00093222 0.00180369 0.00122542]\n",
      " [0.         0.         0.00508871 0.0027933  0.00185092 0.00415591\n",
      "  0.001917   0.00115665 0.00201874 0.00082345]\n",
      " [0.         0.         0.0053122  0.00209497 0.0005048  0.\n",
      "  0.         0.         0.00032605 0.00211154]\n",
      " [0.         0.         0.00416036 0.00104749 0.00084133 0.00397906\n",
      "  0.00082897 0.00060422 0.00138745 0.00138638]\n",
      " [0.         0.         0.00476207 0.00139665 0.         0.00344852\n",
      "  0.00039722 0.         0.00077697 0.00069641]\n",
      " [0.         0.         0.00416036 0.         0.00117786 0.00106108\n",
      "  0.00281505 0.00093222 0.         0.00094313]]\n",
      "y \n",
      " 0    6.680000e+11\n",
      "1    7.750000e+12\n",
      "2    7.930000e+12\n",
      "3    9.180000e+12\n",
      "4    5.690000e+12\n",
      "5    3.860000e+12\n",
      "6    9.600000e+12\n",
      "7    6.400000e+12\n",
      "8    3.240000e+12\n",
      "9    4.320000e+12\n",
      "Name: Turnover, dtype: float64\n"
     ]
    }
   ],
   "source": [
    "from sklearn.preprocessing import MinMaxScaler\n",
    "scaler = MinMaxScaler(copy=True, feature_range=(0, 1))\n",
    "X = scaler.fit_transform(X)\n",
    "\n",
    "#showing data\n",
    "print('x \\n' , X[:10])\n",
    "print('y \\n' , y[:10])"
   ]
  },
  {
   "cell_type": "code",
   "execution_count": 56,
   "metadata": {},
   "outputs": [
    {
     "name": "stdout",
     "output_type": "stream",
     "text": [
      "X_train shape is: (3486, 10)\n",
      "X_test shape is: (1718, 10)\n",
      "y_train shape is: (3486,)\n",
      "y_test shape is: (1718,)\n"
     ]
    }
   ],
   "source": [
    "from sklearn.model_selection import train_test_split\n",
    "X_train,X_test,y_train,y_test = train_test_split(X,y,test_size=0.33,random_state=0)\n",
    "print(\"X_train shape is:\",X_train.shape)\n",
    "print(\"X_test shape is:\",X_test.shape)\n",
    "print(\"y_train shape is:\",y_train.shape)\n",
    "print(\"y_test shape is:\",y_test.shape)"
   ]
  },
  {
   "cell_type": "code",
   "execution_count": 57,
   "metadata": {},
   "outputs": [],
   "source": [
    "from sklearn.ensemble import RandomForestRegressor\n"
   ]
  },
  {
   "cell_type": "code",
   "execution_count": 61,
   "metadata": {},
   "outputs": [
    {
     "name": "stdout",
     "output_type": "stream",
     "text": [
      "Random Forest Regressor Train Score is :  0.9734018935951031\n",
      "Random Forest Regressor Test Score is :  0.9969047625110619\n",
      "Random Forest Regressor No. of features are :  10\n",
      "----------------------------------------------------\n",
      "Predicted Value for Random Forest Regressor is :  [4.65962313e+14 7.99248544e+14 2.87898040e+13 1.11827210e+14\n",
      " 6.60002751e+12 1.30385815e+13 2.61290846e+13 2.18574636e+14\n",
      " 1.42109765e+14 8.30047076e+13 1.77507027e+14 2.20174244e+14\n",
      " 3.26942012e+14 1.06215867e+15 4.51783759e+12 7.61510352e+12\n",
      " 1.74299080e+14 2.68535321e+14 4.62042330e+14 2.66113019e+14\n",
      " 3.33422533e+14 3.78486899e+12 2.19985613e+14 2.90589386e+14\n",
      " 3.18776954e+14 2.38081777e+14 3.15241702e+14 1.04575447e+14\n",
      " 9.36521557e+12 1.04694862e+15 4.61238257e+14 8.95545329e+13\n",
      " 7.68474452e+14 1.77172420e+14 8.87725663e+12 1.54932555e+13\n",
      " 1.82421800e+14 7.21388238e+14 2.02163636e+14 4.23497935e+14\n",
      " 6.92286517e+12 1.36360926e+12 4.17996114e+13 3.40176415e+14\n",
      " 1.21139846e+14 5.52007239e+12 4.17697787e+12 1.36336143e+14\n",
      " 3.21720418e+13]\n",
      "score of model is : 0.9969047625110619\n"
     ]
    }
   ],
   "source": [
    "RandomForestRegressorModel = RandomForestRegressor(n_estimators=100,max_depth=11, random_state=33)\n",
    "RandomForestRegressorModel.fit(X_train, y_train)\n",
    "\n",
    "print('Random Forest Regressor Train Score is : ' , RandomForestRegressorModel.score(X_train, y_train))\n",
    "print('Random Forest Regressor Test Score is : ' , RandomForestRegressorModel.score(X_test, y_test))\n",
    "print('Random Forest Regressor No. of features are : ' , RandomForestRegressorModel.n_features_)\n",
    "print('----------------------------------------------------')\n",
    "\n",
    "y_pred = RandomForestRegressorModel.predict(X_test)\n",
    "print('Predicted Value for Random Forest Regressor is : ' , y_pred[:49])\n",
    "print(\"score of model is :\",RandomForestRegressorModel.score(X_test,y_test))"
   ]
  },
  {
   "cell_type": "code",
   "execution_count": 62,
   "metadata": {},
   "outputs": [],
   "source": [
    "from sklearn.metrics import  mean_squared_error"
   ]
  },
  {
   "cell_type": "code",
   "execution_count": 63,
   "metadata": {},
   "outputs": [
    {
     "name": "stdout",
     "output_type": "stream",
     "text": [
      "Mean Squared Error Value is :  3.1242943530388134e+26\n"
     ]
    }
   ],
   "source": [
    "MSEValue = mean_squared_error(y_test, y_pred, multioutput='uniform_average') # it can be raw_values\n",
    "print('Mean Squared Error Value is : ', MSEValue)"
   ]
  },
  {
   "cell_type": "code",
   "execution_count": null,
   "metadata": {},
   "outputs": [],
   "source": []
  }
 ],
 "metadata": {
  "kernelspec": {
   "display_name": "Python 3",
   "language": "python",
   "name": "python3"
  },
  "language_info": {
   "codemirror_mode": {
    "name": "ipython",
    "version": 3
   },
   "file_extension": ".py",
   "mimetype": "text/x-python",
   "name": "python",
   "nbconvert_exporter": "python",
   "pygments_lexer": "ipython3",
   "version": "3.8.5"
  }
 },
 "nbformat": 4,
 "nbformat_minor": 4
}
